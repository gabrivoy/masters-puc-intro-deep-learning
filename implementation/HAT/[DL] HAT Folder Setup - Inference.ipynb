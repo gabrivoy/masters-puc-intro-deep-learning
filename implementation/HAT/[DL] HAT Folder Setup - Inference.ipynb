{
 "cells": [
  {
   "cell_type": "code",
   "execution_count": null,
   "metadata": {
    "colab": {
     "base_uri": "https://localhost:8080/"
    },
    "executionInfo": {
     "elapsed": 288,
     "status": "ok",
     "timestamp": 1748954659447,
     "user": {
      "displayName": "Gabriel Ribeiro",
      "userId": "16921508204238652021"
     },
     "user_tz": 180
    },
    "id": "NryRg_jdnTCa",
    "outputId": "2fbdab96-0d7c-4207-860b-fecf6f38b7d4"
   },
   "outputs": [
    {
     "name": "stdout",
     "output_type": "stream",
     "text": [
      "=== Folder configuration ===\n",
      "zip_path: /content/drive/MyDrive/Deep Learning/super-resolution-in-video-games/subset.zip\n",
      "work_dir: /content\n",
      "unzip_dir: /content/subset\n",
      "hat_data_dir: /content/datasets/sr_srgb\n"
     ]
    }
   ],
   "source": [
    "import os\n",
    "import shutil\n",
    "from zipfile import ZipFile\n",
    "\n",
    "drive_base = \"/content/drive/MyDrive/Deep Learning\"\n",
    "zip_path = os.path.join(drive_base, \"super-resolution-in-video-games/subset.zip\")\n",
    "work_dir = \"/content\"\n",
    "unzip_dir = os.path.join(work_dir, \"subset\")\n",
    "hat_data_dir = os.path.join(work_dir, \"datasets\", \"sr_srgb\")\n",
    "lr_dir = os.path.join(hat_data_dir, \"LR\", \"test\")\n",
    "hr_dir = os.path.join(hat_data_dir, \"HR\", \"test\")\n",
    "\n",
    "print(\"=== Folder configuration ===\")\n",
    "print(f\"zip_path: {zip_path}\")\n",
    "print(f\"work_dir: {work_dir}\")\n",
    "print(f\"unzip_dir: {unzip_dir}\")\n",
    "print(f\"hat_data_dir: {hat_data_dir}\")"
   ]
  },
  {
   "cell_type": "code",
   "execution_count": null,
   "metadata": {
    "colab": {
     "base_uri": "https://localhost:8080/"
    },
    "executionInfo": {
     "elapsed": 20,
     "status": "ok",
     "timestamp": 1748954659475,
     "user": {
      "displayName": "Gabriel Ribeiro",
      "userId": "16921508204238652021"
     },
     "user_tz": 180
    },
    "id": "4ttmc2zmqlpV",
    "outputId": "dedd647e-c403-4e44-f6e5-ecc43c18a27a"
   },
   "outputs": [
    {
     "name": "stdout",
     "output_type": "stream",
     "text": [
      "Filesystem      Size  Used Avail Use% Mounted on\n",
      "overlay         236G   38G  199G  16% /\n"
     ]
    }
   ],
   "source": [
    "!df -h /content"
   ]
  },
  {
   "cell_type": "code",
   "execution_count": null,
   "metadata": {
    "id": "BDFWpKcqqm7S"
   },
   "outputs": [],
   "source": [
    "shutil.copy(zip_path, work_dir)\n",
    "with ZipFile(os.path.join(work_dir, \"subset.zip\"), 'r') as zip_ref:\n",
    "    zip_ref.extractall(work_dir)"
   ]
  },
  {
   "cell_type": "code",
   "execution_count": null,
   "metadata": {
    "id": "E6ObhdxEqp6j"
   },
   "outputs": [],
   "source": [
    "os.makedirs(lr_dir, exist_ok=True)\n",
    "os.makedirs(hr_dir, exist_ok=True)"
   ]
  },
  {
   "cell_type": "code",
   "execution_count": null,
   "metadata": {
    "id": "qM9qv6oXqzhV"
   },
   "outputs": [],
   "source": [
    "lr_source = os.path.join(unzip_dir, \"test\", \"lr\")\n",
    "hr_source = os.path.join(unzip_dir, \"test\", \"hr\")"
   ]
  },
  {
   "cell_type": "code",
   "execution_count": null,
   "metadata": {
    "id": "aAFZthNsq0nL"
   },
   "outputs": [],
   "source": [
    "for file in os.listdir(lr_source):\n",
    "    shutil.copy(os.path.join(lr_source, file), lr_dir)\n",
    "\n",
    "for file in os.listdir(hr_source):\n",
    "    shutil.copy(os.path.join(hr_source, file), hr_dir)"
   ]
  },
  {
   "cell_type": "code",
   "execution_count": null,
   "metadata": {
    "colab": {
     "base_uri": "https://localhost:8080/"
    },
    "executionInfo": {
     "elapsed": 2720,
     "status": "ok",
     "timestamp": 1748955376422,
     "user": {
      "displayName": "Gabriel Ribeiro",
      "userId": "16921508204238652021"
     },
     "user_tz": 180
    },
    "id": "ym0UuhUowYkr",
    "outputId": "dc8255af-388e-48e8-bab6-efcd423d7668"
   },
   "outputs": [
    {
     "name": "stdout",
     "output_type": "stream",
     "text": [
      "Cloning into 'HAT'...\n",
      "remote: Enumerating objects: 419, done.\u001b[K\n",
      "remote: Counting objects: 100% (241/241), done.\u001b[K\n",
      "remote: Compressing objects: 100% (121/121), done.\u001b[K\n",
      "remote: Total 419 (delta 196), reused 120 (delta 120), pack-reused 178 (from 4)\u001b[K\n",
      "Receiving objects: 100% (419/419), 20.72 MiB | 21.09 MiB/s, done.\n",
      "Resolving deltas: 100% (231/231), done.\n"
     ]
    }
   ],
   "source": [
    "!git clone https://github.com/XPixelGroup/HAT.git"
   ]
  },
  {
   "cell_type": "code",
   "execution_count": null,
   "metadata": {
    "colab": {
     "base_uri": "https://localhost:8080/"
    },
    "executionInfo": {
     "elapsed": 13,
     "status": "ok",
     "timestamp": 1748955376446,
     "user": {
      "displayName": "Gabriel Ribeiro",
      "userId": "16921508204238652021"
     },
     "user_tz": 180
    },
    "id": "UGkoK0-DwZyl",
    "outputId": "bca5946a-4954-4ce0-fbe9-93edc30f8eed"
   },
   "outputs": [
    {
     "name": "stdout",
     "output_type": "stream",
     "text": [
      "/content/HAT\n"
     ]
    }
   ],
   "source": [
    "%cd HAT"
   ]
  },
  {
   "cell_type": "code",
   "execution_count": null,
   "metadata": {
    "colab": {
     "base_uri": "https://localhost:8080/"
    },
    "executionInfo": {
     "elapsed": 69064,
     "status": "ok",
     "timestamp": 1748955445511,
     "user": {
      "displayName": "Gabriel Ribeiro",
      "userId": "16921508204238652021"
     },
     "user_tz": 180
    },
    "id": "N-ZnJZ30wbaW",
    "outputId": "d50d98f3-c787-4741-bea3-7467570bfbb1"
   },
   "outputs": [
    {
     "name": "stdout",
     "output_type": "stream",
     "text": [
      "\u001b[2K   \u001b[90m━━━━━━━━━━━━━━━━━━━━━━━━━━━━━━━━━━━━━━━━\u001b[0m \u001b[32m53.8/53.8 kB\u001b[0m \u001b[31m2.5 MB/s\u001b[0m eta \u001b[36m0:00:00\u001b[0m\n",
      "\u001b[2K   \u001b[90m━━━━━━━━━━━━━━━━━━━━━━━━━━━━━━━━━━━━━━━━\u001b[0m \u001b[32m363.4/363.4 MB\u001b[0m \u001b[31m3.5 MB/s\u001b[0m eta \u001b[36m0:00:00\u001b[0m\n",
      "\u001b[2K   \u001b[90m━━━━━━━━━━━━━━━━━━━━━━━━━━━━━━━━━━━━━━━━\u001b[0m \u001b[32m13.8/13.8 MB\u001b[0m \u001b[31m89.0 MB/s\u001b[0m eta \u001b[36m0:00:00\u001b[0m\n",
      "\u001b[2K   \u001b[90m━━━━━━━━━━━━━━━━━━━━━━━━━━━━━━━━━━━━━━━━\u001b[0m \u001b[32m24.6/24.6 MB\u001b[0m \u001b[31m72.3 MB/s\u001b[0m eta \u001b[36m0:00:00\u001b[0m\n",
      "\u001b[2K   \u001b[90m━━━━━━━━━━━━━━━━━━━━━━━━━━━━━━━━━━━━━━━━\u001b[0m \u001b[32m883.7/883.7 kB\u001b[0m \u001b[31m66.3 MB/s\u001b[0m eta \u001b[36m0:00:00\u001b[0m\n",
      "\u001b[2K   \u001b[90m━━━━━━━━━━━━━━━━━━━━━━━━━━━━━━━━━━━━━━━━\u001b[0m \u001b[32m664.8/664.8 MB\u001b[0m \u001b[31m2.3 MB/s\u001b[0m eta \u001b[36m0:00:00\u001b[0m\n",
      "\u001b[2K   \u001b[90m━━━━━━━━━━━━━━━━━━━━━━━━━━━━━━━━━━━━━━━━\u001b[0m \u001b[32m211.5/211.5 MB\u001b[0m \u001b[31m4.8 MB/s\u001b[0m eta \u001b[36m0:00:00\u001b[0m\n",
      "\u001b[2K   \u001b[90m━━━━━━━━━━━━━━━━━━━━━━━━━━━━━━━━━━━━━━━━\u001b[0m \u001b[32m56.3/56.3 MB\u001b[0m \u001b[31m39.8 MB/s\u001b[0m eta \u001b[36m0:00:00\u001b[0m\n",
      "\u001b[2K   \u001b[90m━━━━━━━━━━━━━━━━━━━━━━━━━━━━━━━━━━━━━━━━\u001b[0m \u001b[32m127.9/127.9 MB\u001b[0m \u001b[31m19.2 MB/s\u001b[0m eta \u001b[36m0:00:00\u001b[0m\n",
      "\u001b[2K   \u001b[90m━━━━━━━━━━━━━━━━━━━━━━━━━━━━━━━━━━━━━━━━\u001b[0m \u001b[32m207.5/207.5 MB\u001b[0m \u001b[31m4.2 MB/s\u001b[0m eta \u001b[36m0:00:00\u001b[0m\n",
      "\u001b[2K   \u001b[90m━━━━━━━━━━━━━━━━━━━━━━━━━━━━━━━━━━━━━━━━\u001b[0m \u001b[32m21.1/21.1 MB\u001b[0m \u001b[31m75.4 MB/s\u001b[0m eta \u001b[36m0:00:00\u001b[0m\n",
      "\u001b[?25h"
     ]
    }
   ],
   "source": [
    "!pip install -q yacs lpips"
   ]
  },
  {
   "cell_type": "code",
   "execution_count": null,
   "metadata": {
    "colab": {
     "base_uri": "https://localhost:8080/"
    },
    "executionInfo": {
     "elapsed": 6740,
     "status": "ok",
     "timestamp": 1748955510044,
     "user": {
      "displayName": "Gabriel Ribeiro",
      "userId": "16921508204238652021"
     },
     "user_tz": 180
    },
    "id": "4EyoQ_Eo3vGt",
    "outputId": "12283fa5-dcec-43e9-eb74-2b7f22887ff9"
   },
   "outputs": [
    {
     "name": "stdout",
     "output_type": "stream",
     "text": [
      "Collecting basicsr\n",
      "  Downloading basicsr-1.4.2.tar.gz (172 kB)\n",
      "\u001b[?25l     \u001b[90m━━━━━━━━━━━━━━━━━━━━━━━━━━━━━━━━━━━━━━━━\u001b[0m \u001b[32m0.0/172.5 kB\u001b[0m \u001b[31m?\u001b[0m eta \u001b[36m-:--:--\u001b[0m\r\u001b[2K     \u001b[91m━━━━━━━━━━━━━━━━━━━━━━━━━━━━━━━━\u001b[0m\u001b[90m╺\u001b[0m\u001b[90m━━━━━━\u001b[0m \u001b[32m143.4/172.5 kB\u001b[0m \u001b[31m4.0 MB/s\u001b[0m eta \u001b[36m0:00:01\u001b[0m\r\u001b[2K     \u001b[90m━━━━━━━━━━━━━━━━━━━━━━━━━━━━━━━━━━━━━━━\u001b[0m \u001b[32m172.5/172.5 kB\u001b[0m \u001b[31m3.7 MB/s\u001b[0m eta \u001b[36m0:00:00\u001b[0m\n",
      "\u001b[?25h  Preparing metadata (setup.py) ... \u001b[?25l\u001b[?25hdone\n",
      "Collecting addict (from basicsr)\n",
      "  Downloading addict-2.4.0-py3-none-any.whl.metadata (1.0 kB)\n",
      "Requirement already satisfied: future in /usr/local/lib/python3.11/dist-packages (from basicsr) (1.0.0)\n",
      "Collecting lmdb (from basicsr)\n",
      "  Downloading lmdb-1.6.2-cp311-cp311-manylinux_2_17_x86_64.manylinux2014_x86_64.whl.metadata (1.1 kB)\n",
      "Requirement already satisfied: numpy>=1.17 in /usr/local/lib/python3.11/dist-packages (from basicsr) (2.0.2)\n",
      "Requirement already satisfied: opencv-python in /usr/local/lib/python3.11/dist-packages (from basicsr) (4.11.0.86)\n",
      "Requirement already satisfied: Pillow in /usr/local/lib/python3.11/dist-packages (from basicsr) (11.2.1)\n",
      "Requirement already satisfied: pyyaml in /usr/local/lib/python3.11/dist-packages (from basicsr) (6.0.2)\n",
      "Requirement already satisfied: requests in /usr/local/lib/python3.11/dist-packages (from basicsr) (2.32.3)\n",
      "Requirement already satisfied: scikit-image in /usr/local/lib/python3.11/dist-packages (from basicsr) (0.25.2)\n",
      "Requirement already satisfied: scipy in /usr/local/lib/python3.11/dist-packages (from basicsr) (1.15.3)\n",
      "Collecting tb-nightly (from basicsr)\n",
      "  Downloading tb_nightly-2.20.0a20250603-py3-none-any.whl.metadata (1.9 kB)\n",
      "Requirement already satisfied: torch>=1.7 in /usr/local/lib/python3.11/dist-packages (from basicsr) (2.6.0+cu124)\n",
      "Requirement already satisfied: torchvision in /usr/local/lib/python3.11/dist-packages (from basicsr) (0.21.0+cu124)\n",
      "Requirement already satisfied: tqdm in /usr/local/lib/python3.11/dist-packages (from basicsr) (4.67.1)\n",
      "Collecting yapf (from basicsr)\n",
      "  Downloading yapf-0.43.0-py3-none-any.whl.metadata (46 kB)\n",
      "\u001b[2K     \u001b[90m━━━━━━━━━━━━━━━━━━━━━━━━━━━━━━━━━━━━━━━━\u001b[0m \u001b[32m46.8/46.8 kB\u001b[0m \u001b[31m4.9 MB/s\u001b[0m eta \u001b[36m0:00:00\u001b[0m\n",
      "\u001b[?25hRequirement already satisfied: filelock in /usr/local/lib/python3.11/dist-packages (from torch>=1.7->basicsr) (3.18.0)\n",
      "Requirement already satisfied: typing-extensions>=4.10.0 in /usr/local/lib/python3.11/dist-packages (from torch>=1.7->basicsr) (4.13.2)\n",
      "Requirement already satisfied: networkx in /usr/local/lib/python3.11/dist-packages (from torch>=1.7->basicsr) (3.4.2)\n",
      "Requirement already satisfied: jinja2 in /usr/local/lib/python3.11/dist-packages (from torch>=1.7->basicsr) (3.1.6)\n",
      "Requirement already satisfied: fsspec in /usr/local/lib/python3.11/dist-packages (from torch>=1.7->basicsr) (2025.3.2)\n",
      "Requirement already satisfied: nvidia-cuda-nvrtc-cu12==12.4.127 in /usr/local/lib/python3.11/dist-packages (from torch>=1.7->basicsr) (12.4.127)\n",
      "Requirement already satisfied: nvidia-cuda-runtime-cu12==12.4.127 in /usr/local/lib/python3.11/dist-packages (from torch>=1.7->basicsr) (12.4.127)\n",
      "Requirement already satisfied: nvidia-cuda-cupti-cu12==12.4.127 in /usr/local/lib/python3.11/dist-packages (from torch>=1.7->basicsr) (12.4.127)\n",
      "Requirement already satisfied: nvidia-cudnn-cu12==9.1.0.70 in /usr/local/lib/python3.11/dist-packages (from torch>=1.7->basicsr) (9.1.0.70)\n",
      "Requirement already satisfied: nvidia-cublas-cu12==12.4.5.8 in /usr/local/lib/python3.11/dist-packages (from torch>=1.7->basicsr) (12.4.5.8)\n",
      "Requirement already satisfied: nvidia-cufft-cu12==11.2.1.3 in /usr/local/lib/python3.11/dist-packages (from torch>=1.7->basicsr) (11.2.1.3)\n",
      "Requirement already satisfied: nvidia-curand-cu12==10.3.5.147 in /usr/local/lib/python3.11/dist-packages (from torch>=1.7->basicsr) (10.3.5.147)\n",
      "Requirement already satisfied: nvidia-cusolver-cu12==11.6.1.9 in /usr/local/lib/python3.11/dist-packages (from torch>=1.7->basicsr) (11.6.1.9)\n",
      "Requirement already satisfied: nvidia-cusparse-cu12==12.3.1.170 in /usr/local/lib/python3.11/dist-packages (from torch>=1.7->basicsr) (12.3.1.170)\n",
      "Requirement already satisfied: nvidia-cusparselt-cu12==0.6.2 in /usr/local/lib/python3.11/dist-packages (from torch>=1.7->basicsr) (0.6.2)\n",
      "Requirement already satisfied: nvidia-nccl-cu12==2.21.5 in /usr/local/lib/python3.11/dist-packages (from torch>=1.7->basicsr) (2.21.5)\n",
      "Requirement already satisfied: nvidia-nvtx-cu12==12.4.127 in /usr/local/lib/python3.11/dist-packages (from torch>=1.7->basicsr) (12.4.127)\n",
      "Requirement already satisfied: nvidia-nvjitlink-cu12==12.4.127 in /usr/local/lib/python3.11/dist-packages (from torch>=1.7->basicsr) (12.4.127)\n",
      "Requirement already satisfied: triton==3.2.0 in /usr/local/lib/python3.11/dist-packages (from torch>=1.7->basicsr) (3.2.0)\n",
      "Requirement already satisfied: sympy==1.13.1 in /usr/local/lib/python3.11/dist-packages (from torch>=1.7->basicsr) (1.13.1)\n",
      "Requirement already satisfied: mpmath<1.4,>=1.1.0 in /usr/local/lib/python3.11/dist-packages (from sympy==1.13.1->torch>=1.7->basicsr) (1.3.0)\n",
      "Requirement already satisfied: charset-normalizer<4,>=2 in /usr/local/lib/python3.11/dist-packages (from requests->basicsr) (3.4.2)\n",
      "Requirement already satisfied: idna<4,>=2.5 in /usr/local/lib/python3.11/dist-packages (from requests->basicsr) (3.10)\n",
      "Requirement already satisfied: urllib3<3,>=1.21.1 in /usr/local/lib/python3.11/dist-packages (from requests->basicsr) (2.4.0)\n",
      "Requirement already satisfied: certifi>=2017.4.17 in /usr/local/lib/python3.11/dist-packages (from requests->basicsr) (2025.4.26)\n",
      "Requirement already satisfied: imageio!=2.35.0,>=2.33 in /usr/local/lib/python3.11/dist-packages (from scikit-image->basicsr) (2.37.0)\n",
      "Requirement already satisfied: tifffile>=2022.8.12 in /usr/local/lib/python3.11/dist-packages (from scikit-image->basicsr) (2025.5.21)\n",
      "Requirement already satisfied: packaging>=21 in /usr/local/lib/python3.11/dist-packages (from scikit-image->basicsr) (24.2)\n",
      "Requirement already satisfied: lazy-loader>=0.4 in /usr/local/lib/python3.11/dist-packages (from scikit-image->basicsr) (0.4)\n",
      "Requirement already satisfied: absl-py>=0.4 in /usr/local/lib/python3.11/dist-packages (from tb-nightly->basicsr) (1.4.0)\n",
      "Requirement already satisfied: grpcio>=1.48.2 in /usr/local/lib/python3.11/dist-packages (from tb-nightly->basicsr) (1.71.0)\n",
      "Requirement already satisfied: markdown>=2.6.8 in /usr/local/lib/python3.11/dist-packages (from tb-nightly->basicsr) (3.8)\n",
      "Requirement already satisfied: protobuf!=4.24.0,>=3.19.6 in /usr/local/lib/python3.11/dist-packages (from tb-nightly->basicsr) (5.29.4)\n",
      "Requirement already satisfied: setuptools>=41.0.0 in /usr/local/lib/python3.11/dist-packages (from tb-nightly->basicsr) (75.2.0)\n",
      "Requirement already satisfied: six>1.9 in /usr/local/lib/python3.11/dist-packages (from tb-nightly->basicsr) (1.17.0)\n",
      "Requirement already satisfied: tensorboard-data-server<0.8.0,>=0.7.0 in /usr/local/lib/python3.11/dist-packages (from tb-nightly->basicsr) (0.7.2)\n",
      "Requirement already satisfied: werkzeug>=1.0.1 in /usr/local/lib/python3.11/dist-packages (from tb-nightly->basicsr) (3.1.3)\n",
      "Requirement already satisfied: platformdirs>=3.5.1 in /usr/local/lib/python3.11/dist-packages (from yapf->basicsr) (4.3.8)\n",
      "Requirement already satisfied: MarkupSafe>=2.1.1 in /usr/local/lib/python3.11/dist-packages (from werkzeug>=1.0.1->tb-nightly->basicsr) (3.0.2)\n",
      "Downloading addict-2.4.0-py3-none-any.whl (3.8 kB)\n",
      "Downloading lmdb-1.6.2-cp311-cp311-manylinux_2_17_x86_64.manylinux2014_x86_64.whl (297 kB)\n",
      "\u001b[2K   \u001b[90m━━━━━━━━━━━━━━━━━━━━━━━━━━━━━━━━━━━━━━━━\u001b[0m \u001b[32m297.8/297.8 kB\u001b[0m \u001b[31m14.9 MB/s\u001b[0m eta \u001b[36m0:00:00\u001b[0m\n",
      "\u001b[?25hDownloading tb_nightly-2.20.0a20250603-py3-none-any.whl (5.5 MB)\n",
      "\u001b[2K   \u001b[90m━━━━━━━━━━━━━━━━━━━━━━━━━━━━━━━━━━━━━━━━\u001b[0m \u001b[32m5.5/5.5 MB\u001b[0m \u001b[31m69.2 MB/s\u001b[0m eta \u001b[36m0:00:00\u001b[0m\n",
      "\u001b[?25hDownloading yapf-0.43.0-py3-none-any.whl (256 kB)\n",
      "\u001b[2K   \u001b[90m━━━━━━━━━━━━━━━━━━━━━━━━━━━━━━━━━━━━━━━━\u001b[0m \u001b[32m256.2/256.2 kB\u001b[0m \u001b[31m27.4 MB/s\u001b[0m eta \u001b[36m0:00:00\u001b[0m\n",
      "\u001b[?25hBuilding wheels for collected packages: basicsr\n",
      "  Building wheel for basicsr (setup.py) ... \u001b[?25l\u001b[?25hdone\n",
      "  Created wheel for basicsr: filename=basicsr-1.4.2-py3-none-any.whl size=214817 sha256=3bb1e32c0fb827fd76598c1fc754db86121c29c5eeea39d17259f17a8578a162\n",
      "  Stored in directory: /root/.cache/pip/wheels/6d/a4/b3/9f888ba88efcae6dd4bbce69832363de9c4051142674f779fa\n",
      "Successfully built basicsr\n",
      "Installing collected packages: lmdb, addict, yapf, tb-nightly, basicsr\n",
      "Successfully installed addict-2.4.0 basicsr-1.4.2 lmdb-1.6.2 tb-nightly-2.20.0a20250603 yapf-0.43.0\n"
     ]
    }
   ],
   "source": [
    "!pip install basicsr"
   ]
  },
  {
   "cell_type": "code",
   "execution_count": null,
   "metadata": {
    "colab": {
     "base_uri": "https://localhost:8080/"
    },
    "executionInfo": {
     "elapsed": 13,
     "status": "ok",
     "timestamp": 1748955512577,
     "user": {
      "displayName": "Gabriel Ribeiro",
      "userId": "16921508204238652021"
     },
     "user_tz": 180
    },
    "id": "zLktG0IlzTfx",
    "outputId": "bb2fed94-94d1-4ab2-f067-0b04963cb97c"
   },
   "outputs": [
    {
     "name": "stdout",
     "output_type": "stream",
     "text": [
      "✅ Patch aplicado ao basicsr.\n"
     ]
    }
   ],
   "source": [
    "# Caminho do arquivo problemático\n",
    "file_path = \"/usr/local/lib/python3.11/dist-packages/basicsr/data/degradations.py\"\n",
    "\n",
    "# Substitui o import quebrado\n",
    "with open(file_path, \"r\") as f:\n",
    "    code = f.read()\n",
    "\n",
    "patched_code = code.replace(\n",
    "    \"from torchvision.transforms.functional_tensor import rgb_to_grayscale\",\n",
    "    \"from torchvision.transforms.functional import rgb_to_grayscale\"\n",
    ")\n",
    "\n",
    "with open(file_path, \"w\") as f:\n",
    "    f.write(patched_code)\n",
    "\n",
    "print(\"Patch aplicado ao basicsr.\")"
   ]
  },
  {
   "cell_type": "code",
   "execution_count": null,
   "metadata": {
    "colab": {
     "base_uri": "https://localhost:8080/"
    },
    "executionInfo": {
     "elapsed": 20,
     "status": "ok",
     "timestamp": 1748955514816,
     "user": {
      "displayName": "Gabriel Ribeiro",
      "userId": "16921508204238652021"
     },
     "user_tz": 180
    },
    "id": "gb1IdveB3td3",
    "outputId": "fc6815de-1a49-47be-ea1e-e39409f3b1e1"
   },
   "outputs": [
    {
     "name": "stdout",
     "output_type": "stream",
     "text": [
      "✅ Funções 'rgb2ycbcr' e 'imresize' adicionadas manualmente ao basicsr.\n"
     ]
    }
   ],
   "source": [
    "matlab_functions_path = \"/usr/local/lib/python3.11/dist-packages/basicsr/utils/matlab_functions.py\"\n",
    "\n",
    "custom_code = '''\n",
    "import numpy as np\n",
    "import cv2\n",
    "\n",
    "def imresize(img, scale, antialiasing=True):\n",
    "    \"\"\"Reimplementação simplificada da imresize do MATLAB\"\"\"\n",
    "    h, w = img.shape[:2]\n",
    "    new_h, new_w = int(h * scale), int(w * scale)\n",
    "    return cv2.resize(img, (new_w, new_h), interpolation=cv2.INTER_CUBIC)\n",
    "\n",
    "def rgb2ycbcr(img, only_y=True):\n",
    "    \"\"\"Converte imagem RGB para YCbCr. Adaptado para uso em PSNR/SSIM.\"\"\"\n",
    "    img = img.astype(np.float32)\n",
    "    if only_y:\n",
    "        r = img[:, :, 0]\n",
    "        g = img[:, :, 1]\n",
    "        b = img[:, :, 2]\n",
    "        y = 0.257 * r + 0.504 * g + 0.098 * b + 16\n",
    "        return y.round().astype(np.uint8)\n",
    "    else:\n",
    "        return cv2.cvtColor(img, cv2.COLOR_RGB2YCrCb)\n",
    "'''\n",
    "\n",
    "with open(matlab_functions_path, \"w\") as f:\n",
    "    f.write(custom_code)\n",
    "\n",
    "print(\"Funções 'rgb2ycbcr' e 'imresize' adicionadas manualmente ao basicsr.\")"
   ]
  },
  {
   "cell_type": "code",
   "execution_count": null,
   "metadata": {
    "colab": {
     "base_uri": "https://localhost:8080/"
    },
    "executionInfo": {
     "elapsed": 274,
     "status": "ok",
     "timestamp": 1748955517377,
     "user": {
      "displayName": "Gabriel Ribeiro",
      "userId": "16921508204238652021"
     },
     "user_tz": 180
    },
    "id": "8TVHpiygsmSQ",
    "outputId": "b7afc059-4c57-4653-a525-26e021e35b5d"
   },
   "outputs": [
    {
     "name": "stderr",
     "output_type": "stream",
     "text": [
      "100%|██████████| 1000/1000 [00:00<00:00, 3922.75it/s]"
     ]
    },
    {
     "name": "stdout",
     "output_type": "stream",
     "text": [
      "✅ Imagens LR organizadas em: /content/HAT/datasets/custom/LR\n"
     ]
    },
    {
     "name": "stderr",
     "output_type": "stream",
     "text": [
      "\n"
     ]
    }
   ],
   "source": [
    "import os, shutil\n",
    "from tqdm import tqdm\n",
    "from PIL import Image\n",
    "\n",
    "# Caminhos\n",
    "base_input = \"/content/datasets/sr_srgb/LR/test\"\n",
    "custom_lr_dir = \"/content/HAT/datasets/custom/LR\"\n",
    "os.makedirs(custom_lr_dir, exist_ok=True)\n",
    "\n",
    "for filename in tqdm(sorted(os.listdir(base_input))):\n",
    "    if filename.endswith((\".png\", \".jpg\")):\n",
    "        shutil.copy(os.path.join(base_input, filename), os.path.join(custom_lr_dir, filename))\n",
    "\n",
    "print(\"Imagens LR organizadas em:\", custom_lr_dir)"
   ]
  },
  {
   "cell_type": "code",
   "execution_count": null,
   "metadata": {
    "id": "i6EXFdeByfWc"
   },
   "outputs": [],
   "source": [
    "!ln -s /content/HAT/datasets/custom/LR /content/HAT/input_dir"
   ]
  },
  {
   "cell_type": "code",
   "execution_count": null,
   "metadata": {
    "colab": {
     "base_uri": "https://localhost:8080/"
    },
    "executionInfo": {
     "elapsed": 5522511,
     "status": "ok",
     "timestamp": 1748961877388,
     "user": {
      "displayName": "Gabriel Ribeiro",
      "userId": "16921508204238652021"
     },
     "user_tz": 180
    },
    "id": "GGYtwZU1tUZT",
    "outputId": "e82f97f5-9cdb-4404-bf5a-5d6faad60e05"
   },
   "outputs": [
    {
     "name": "stdout",
     "output_type": "stream",
     "text": [
      "Disable distributed.\n",
      "Path already exists. Rename it to /content/HAT/results/HAT-S_SRx4_archived_20250603_131240\n",
      "2025-06-03 13:12:40,041 INFO: \n",
      "                ____                _       _____  ____\n",
      "               / __ ) ____ _ _____ (_)_____/ ___/ / __ \\\n",
      "              / __  |/ __ `// ___// // ___/\\__ \\ / /_/ /\n",
      "             / /_/ // /_/ /(__  )/ // /__ ___/ // _, _/\n",
      "            /_____/ \\__,_//____//_/ \\___//____//_/ |_|\n",
      "     ______                   __   __                 __      __\n",
      "    / ____/____   ____   ____/ /  / /   __  __ _____ / /__   / /\n",
      "   / / __ / __ \\ / __ \\ / __  /  / /   / / / // ___// //_/  / /\n",
      "  / /_/ // /_/ // /_/ // /_/ /  / /___/ /_/ // /__ / /<    /_/\n",
      "  \\____/ \\____/ \\____/ \\____/  /_____/\\____/ \\___//_/|_|  (_)\n",
      "    \n",
      "Version Information: \n",
      "\tBasicSR: 1.4.2\n",
      "\tPyTorch: 2.6.0+cu124\n",
      "\tTorchVision: 0.21.0+cu124\n",
      "2025-06-03 13:12:40,041 INFO: \n",
      "  name: HAT-S_SRx4\n",
      "  model_type: HATModel\n",
      "  scale: 4\n",
      "  num_gpu: 1\n",
      "  manual_seed: 0\n",
      "  datasets:[\n",
      "    test_1:[\n",
      "      name: custom\n",
      "      type: PairedImageDataset\n",
      "      dataroot_gt: /content/datasets/sr_srgb/HR/test\n",
      "      dataroot_lq: /content/datasets/sr_srgb/LR/test\n",
      "      io_backend:[\n",
      "        type: disk\n",
      "      ]\n",
      "      phase: test\n",
      "      scale: 4\n",
      "    ]\n",
      "  ]\n",
      "  network_g:[\n",
      "    type: HAT\n",
      "    upscale: 4\n",
      "    in_chans: 3\n",
      "    img_size: 64\n",
      "    window_size: 16\n",
      "    compress_ratio: 24\n",
      "    squeeze_factor: 24\n",
      "    conv_scale: 0.01\n",
      "    overlap_ratio: 0.5\n",
      "    img_range: 1.0\n",
      "    depths: [6, 6, 6, 6, 6, 6]\n",
      "    embed_dim: 144\n",
      "    num_heads: [6, 6, 6, 6, 6, 6]\n",
      "    mlp_ratio: 2\n",
      "    upsampler: pixelshuffle\n",
      "    resi_connection: 1conv\n",
      "  ]\n",
      "  path:[\n",
      "    pretrain_network_g: /content/drive/MyDrive/Deep Learning/HAT/HAT-S_SRx4.pth\n",
      "    strict_load_g: True\n",
      "    param_key_g: params_ema\n",
      "    results_root: /content/HAT/results/HAT-S_SRx4\n",
      "    log: /content/HAT/results/HAT-S_SRx4\n",
      "    visualization: /content/HAT/results/HAT-S_SRx4/visualization\n",
      "  ]\n",
      "  val:[\n",
      "    save_img: True\n",
      "    suffix: None\n",
      "    metrics:[\n",
      "      psnr:[\n",
      "        type: calculate_psnr\n",
      "        crop_border: 4\n",
      "        test_y_channel: True\n",
      "      ]\n",
      "      ssim:[\n",
      "        type: calculate_ssim\n",
      "        crop_border: 4\n",
      "        test_y_channel: True\n",
      "      ]\n",
      "    ]\n",
      "  ]\n",
      "  dist: False\n",
      "  rank: 0\n",
      "  world_size: 1\n",
      "  auto_resume: False\n",
      "  is_train: False\n",
      "\n",
      "2025-06-03 13:12:40,063 INFO: Dataset [PairedImageDataset] - custom is built.\n",
      "2025-06-03 13:12:40,064 INFO: Number of test images in custom: 1000\n",
      "/usr/local/lib/python3.11/dist-packages/torch/functional.py:539: UserWarning: torch.meshgrid: in an upcoming release, it will be required to pass the indexing argument. (Triggered internally at /pytorch/aten/src/ATen/native/TensorShape.cpp:3637.)\n",
      "  return _VF.meshgrid(tensors, **kwargs)  # type: ignore[attr-defined]\n",
      "2025-06-03 13:12:40,341 INFO: Network [HAT] is created.\n",
      "2025-06-03 13:12:40,634 INFO: Network: HAT, with parameters: 9,621,183\n",
      "2025-06-03 13:12:40,635 INFO: HAT(\n",
      "  (conv_first): Conv2d(3, 144, kernel_size=(3, 3), stride=(1, 1), padding=(1, 1))\n",
      "  (patch_embed): PatchEmbed(\n",
      "    (norm): LayerNorm((144,), eps=1e-05, elementwise_affine=True)\n",
      "  )\n",
      "  (patch_unembed): PatchUnEmbed()\n",
      "  (pos_drop): Dropout(p=0.0, inplace=False)\n",
      "  (layers): ModuleList(\n",
      "    (0): RHAG(\n",
      "      (residual_group): AttenBlocks(\n",
      "        (blocks): ModuleList(\n",
      "          (0): HAB(\n",
      "            (norm1): LayerNorm((144,), eps=1e-05, elementwise_affine=True)\n",
      "            (attn): WindowAttention(\n",
      "              (qkv): Linear(in_features=144, out_features=432, bias=True)\n",
      "              (attn_drop): Dropout(p=0.0, inplace=False)\n",
      "              (proj): Linear(in_features=144, out_features=144, bias=True)\n",
      "              (proj_drop): Dropout(p=0.0, inplace=False)\n",
      "              (softmax): Softmax(dim=-1)\n",
      "            )\n",
      "            (conv_block): CAB(\n",
      "              (cab): Sequential(\n",
      "                (0): Conv2d(144, 6, kernel_size=(3, 3), stride=(1, 1), padding=(1, 1))\n",
      "                (1): GELU(approximate='none')\n",
      "                (2): Conv2d(6, 144, kernel_size=(3, 3), stride=(1, 1), padding=(1, 1))\n",
      "                (3): ChannelAttention(\n",
      "                  (attention): Sequential(\n",
      "                    (0): AdaptiveAvgPool2d(output_size=1)\n",
      "                    (1): Conv2d(144, 6, kernel_size=(1, 1), stride=(1, 1))\n",
      "                    (2): ReLU(inplace=True)\n",
      "                    (3): Conv2d(6, 144, kernel_size=(1, 1), stride=(1, 1))\n",
      "                    (4): Sigmoid()\n",
      "                  )\n",
      "                )\n",
      "              )\n",
      "            )\n",
      "            (drop_path): Identity()\n",
      "            (norm2): LayerNorm((144,), eps=1e-05, elementwise_affine=True)\n",
      "            (mlp): Mlp(\n",
      "              (fc1): Linear(in_features=144, out_features=288, bias=True)\n",
      "              (act): GELU(approximate='none')\n",
      "              (fc2): Linear(in_features=288, out_features=144, bias=True)\n",
      "              (drop): Dropout(p=0.0, inplace=False)\n",
      "            )\n",
      "          )\n",
      "          (1-5): 5 x HAB(\n",
      "            (norm1): LayerNorm((144,), eps=1e-05, elementwise_affine=True)\n",
      "            (attn): WindowAttention(\n",
      "              (qkv): Linear(in_features=144, out_features=432, bias=True)\n",
      "              (attn_drop): Dropout(p=0.0, inplace=False)\n",
      "              (proj): Linear(in_features=144, out_features=144, bias=True)\n",
      "              (proj_drop): Dropout(p=0.0, inplace=False)\n",
      "              (softmax): Softmax(dim=-1)\n",
      "            )\n",
      "            (conv_block): CAB(\n",
      "              (cab): Sequential(\n",
      "                (0): Conv2d(144, 6, kernel_size=(3, 3), stride=(1, 1), padding=(1, 1))\n",
      "                (1): GELU(approximate='none')\n",
      "                (2): Conv2d(6, 144, kernel_size=(3, 3), stride=(1, 1), padding=(1, 1))\n",
      "                (3): ChannelAttention(\n",
      "                  (attention): Sequential(\n",
      "                    (0): AdaptiveAvgPool2d(output_size=1)\n",
      "                    (1): Conv2d(144, 6, kernel_size=(1, 1), stride=(1, 1))\n",
      "                    (2): ReLU(inplace=True)\n",
      "                    (3): Conv2d(6, 144, kernel_size=(1, 1), stride=(1, 1))\n",
      "                    (4): Sigmoid()\n",
      "                  )\n",
      "                )\n",
      "              )\n",
      "            )\n",
      "            (drop_path): DropPath()\n",
      "            (norm2): LayerNorm((144,), eps=1e-05, elementwise_affine=True)\n",
      "            (mlp): Mlp(\n",
      "              (fc1): Linear(in_features=144, out_features=288, bias=True)\n",
      "              (act): GELU(approximate='none')\n",
      "              (fc2): Linear(in_features=288, out_features=144, bias=True)\n",
      "              (drop): Dropout(p=0.0, inplace=False)\n",
      "            )\n",
      "          )\n",
      "        )\n",
      "        (overlap_attn): OCAB(\n",
      "          (norm1): LayerNorm((144,), eps=1e-05, elementwise_affine=True)\n",
      "          (qkv): Linear(in_features=144, out_features=432, bias=True)\n",
      "          (unfold): Unfold(kernel_size=(24, 24), dilation=1, padding=4, stride=16)\n",
      "          (softmax): Softmax(dim=-1)\n",
      "          (proj): Linear(in_features=144, out_features=144, bias=True)\n",
      "          (norm2): LayerNorm((144,), eps=1e-05, elementwise_affine=True)\n",
      "          (mlp): Mlp(\n",
      "            (fc1): Linear(in_features=144, out_features=288, bias=True)\n",
      "            (act): GELU(approximate='none')\n",
      "            (fc2): Linear(in_features=288, out_features=144, bias=True)\n",
      "            (drop): Dropout(p=0.0, inplace=False)\n",
      "          )\n",
      "        )\n",
      "      )\n",
      "      (conv): Conv2d(144, 144, kernel_size=(3, 3), stride=(1, 1), padding=(1, 1))\n",
      "      (patch_embed): PatchEmbed()\n",
      "      (patch_unembed): PatchUnEmbed()\n",
      "    )\n",
      "    (1-5): 5 x RHAG(\n",
      "      (residual_group): AttenBlocks(\n",
      "        (blocks): ModuleList(\n",
      "          (0-5): 6 x HAB(\n",
      "            (norm1): LayerNorm((144,), eps=1e-05, elementwise_affine=True)\n",
      "            (attn): WindowAttention(\n",
      "              (qkv): Linear(in_features=144, out_features=432, bias=True)\n",
      "              (attn_drop): Dropout(p=0.0, inplace=False)\n",
      "              (proj): Linear(in_features=144, out_features=144, bias=True)\n",
      "              (proj_drop): Dropout(p=0.0, inplace=False)\n",
      "              (softmax): Softmax(dim=-1)\n",
      "            )\n",
      "            (conv_block): CAB(\n",
      "              (cab): Sequential(\n",
      "                (0): Conv2d(144, 6, kernel_size=(3, 3), stride=(1, 1), padding=(1, 1))\n",
      "                (1): GELU(approximate='none')\n",
      "                (2): Conv2d(6, 144, kernel_size=(3, 3), stride=(1, 1), padding=(1, 1))\n",
      "                (3): ChannelAttention(\n",
      "                  (attention): Sequential(\n",
      "                    (0): AdaptiveAvgPool2d(output_size=1)\n",
      "                    (1): Conv2d(144, 6, kernel_size=(1, 1), stride=(1, 1))\n",
      "                    (2): ReLU(inplace=True)\n",
      "                    (3): Conv2d(6, 144, kernel_size=(1, 1), stride=(1, 1))\n",
      "                    (4): Sigmoid()\n",
      "                  )\n",
      "                )\n",
      "              )\n",
      "            )\n",
      "            (drop_path): DropPath()\n",
      "            (norm2): LayerNorm((144,), eps=1e-05, elementwise_affine=True)\n",
      "            (mlp): Mlp(\n",
      "              (fc1): Linear(in_features=144, out_features=288, bias=True)\n",
      "              (act): GELU(approximate='none')\n",
      "              (fc2): Linear(in_features=288, out_features=144, bias=True)\n",
      "              (drop): Dropout(p=0.0, inplace=False)\n",
      "            )\n",
      "          )\n",
      "        )\n",
      "        (overlap_attn): OCAB(\n",
      "          (norm1): LayerNorm((144,), eps=1e-05, elementwise_affine=True)\n",
      "          (qkv): Linear(in_features=144, out_features=432, bias=True)\n",
      "          (unfold): Unfold(kernel_size=(24, 24), dilation=1, padding=4, stride=16)\n",
      "          (softmax): Softmax(dim=-1)\n",
      "          (proj): Linear(in_features=144, out_features=144, bias=True)\n",
      "          (norm2): LayerNorm((144,), eps=1e-05, elementwise_affine=True)\n",
      "          (mlp): Mlp(\n",
      "            (fc1): Linear(in_features=144, out_features=288, bias=True)\n",
      "            (act): GELU(approximate='none')\n",
      "            (fc2): Linear(in_features=288, out_features=144, bias=True)\n",
      "            (drop): Dropout(p=0.0, inplace=False)\n",
      "          )\n",
      "        )\n",
      "      )\n",
      "      (conv): Conv2d(144, 144, kernel_size=(3, 3), stride=(1, 1), padding=(1, 1))\n",
      "      (patch_embed): PatchEmbed()\n",
      "      (patch_unembed): PatchUnEmbed()\n",
      "    )\n",
      "  )\n",
      "  (norm): LayerNorm((144,), eps=1e-05, elementwise_affine=True)\n",
      "  (conv_after_body): Conv2d(144, 144, kernel_size=(3, 3), stride=(1, 1), padding=(1, 1))\n",
      "  (conv_before_upsample): Sequential(\n",
      "    (0): Conv2d(144, 64, kernel_size=(3, 3), stride=(1, 1), padding=(1, 1))\n",
      "    (1): LeakyReLU(negative_slope=0.01, inplace=True)\n",
      "  )\n",
      "  (upsample): Upsample(\n",
      "    (0): Conv2d(64, 256, kernel_size=(3, 3), stride=(1, 1), padding=(1, 1))\n",
      "    (1): PixelShuffle(upscale_factor=2)\n",
      "    (2): Conv2d(64, 256, kernel_size=(3, 3), stride=(1, 1), padding=(1, 1))\n",
      "    (3): PixelShuffle(upscale_factor=2)\n",
      "  )\n",
      "  (conv_last): Conv2d(64, 3, kernel_size=(3, 3), stride=(1, 1), padding=(1, 1))\n",
      ")\n",
      "2025-06-03 13:12:40,932 INFO: Loading HAT model from /content/drive/MyDrive/Deep Learning/HAT/HAT-S_SRx4.pth, with param key: [params_ema].\n",
      "2025-06-03 13:12:41,023 INFO: Model [HATModel] is created.\n",
      "2025-06-03 13:12:41,023 INFO: Testing custom...\n",
      "2025-06-03 14:44:37,877 INFO: Validation custom\n",
      "\t # psnr: 26.2780\tBest: 26.2780 @ HAT-S_SRx4 iter\n",
      "\t # ssim: 0.8148\tBest: 0.8148 @ HAT-S_SRx4 iter\n",
      "\n"
     ]
    }
   ],
   "source": [
    "!PYTHONPATH=\".\" python hat/test.py -opt options/test/HAT-S_SRx4.yml"
   ]
  },
  {
   "cell_type": "code",
   "execution_count": null,
   "metadata": {
    "colab": {
     "base_uri": "https://localhost:8080/"
    },
    "executionInfo": {
     "elapsed": 16531,
     "status": "ok",
     "timestamp": 1748961894123,
     "user": {
      "displayName": "Gabriel Ribeiro",
      "userId": "16921508204238652021"
     },
     "user_tz": 180
    },
    "id": "I1vocVP6DzOk",
    "outputId": "1e1d5af1-4473-4dbf-f571-8f4a82e062f3"
   },
   "outputs": [
    {
     "name": "stdout",
     "output_type": "stream",
     "text": [
      "✅ Resultados copiados para o Google Drive com sucesso.\n"
     ]
    }
   ],
   "source": [
    "import shutil\n",
    "\n",
    "src = \"/content/HAT/results/HAT-S_SRx4\"\n",
    "dst = \"/content/drive/MyDrive/Deep Learning/HAT/results/HAT-S_SRx4\"\n",
    "\n",
    "shutil.copytree(src, dst, dirs_exist_ok=True)\n",
    "print(\"Resultados copiados para o Google Drive com sucesso.\")"
   ]
  }
 ],
 "metadata": {
  "accelerator": "GPU",
  "colab": {
   "authorship_tag": "ABX9TyOTtGIhVwxnLlUG2VYZyoCI",
   "gpuType": "T4",
   "machine_shape": "hm",
   "mount_file_id": "1keiG9TPSO2t8cqh_Hwuclbp-KRsrrhg4",
   "provenance": []
  },
  "kernelspec": {
   "display_name": "Python 3",
   "name": "python3"
  },
  "language_info": {
   "name": "python"
  }
 },
 "nbformat": 4,
 "nbformat_minor": 0
}
